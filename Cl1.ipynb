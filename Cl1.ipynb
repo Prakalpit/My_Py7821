{
 "cells": [
  {
   "cell_type": "markdown",
   "id": "74c6aba6",
   "metadata": {},
   "source": [
    "## Welcome to Python Programming "
   ]
  },
  {
   "cell_type": "markdown",
   "id": "569220af",
   "metadata": {},
   "source": [
    "<p> Welcome to Python Programming</p>\n",
    "        \n",
    "<p> Here, in the first class you will learn to use Numbers in python and a bit of arthematic operators.</p>\n",
    "       \n"
   ]
  },
  {
   "cell_type": "markdown",
   "id": "af8798b3",
   "metadata": {},
   "source": [
    "<img src=\"https://www.devopsschool.com/blog/wp-content/uploads/2020/08/arithmetic-operation-in-python.png\">"
   ]
  },
  {
   "cell_type": "markdown",
   "id": "4a743334",
   "metadata": {},
   "source": [
    "### However Before that"
   ]
  },
  {
   "cell_type": "markdown",
   "id": "97ea7d3d",
   "metadata": {},
   "source": [
    "<p>\n",
    "    Lets learn a bit about Comments, What are comments? \n",
    "    <br> \n",
    "    Comments are those lines in a programme that need not get executed. \n",
    "    Comments are there to provide the user with clear view of the programme.<br><br><br>\n",
    "    Below is a code which you don't need to understand but will be helpful to understand the use of comments\n",
    "    </p>"
   ]
  },
  {
   "cell_type": "code",
   "execution_count": 3,
   "id": "45b5c18a",
   "metadata": {},
   "outputs": [
    {
     "name": "stdout",
     "output_type": "stream",
     "text": [
      "11\n"
     ]
    },
    {
     "data": {
      "text/plain": [
       "4"
      ]
     },
     "execution_count": 3,
     "metadata": {},
     "output_type": "execute_result"
    }
   ],
   "source": [
    "# lets define our own len function \n",
    "def Length(par):\n",
    "    char = 0 #create a char variable which refers to total characters in the parameter \n",
    "    for characters in par: #for each character in par, add 1 to the character\n",
    "        char +=1\n",
    "    return char #return the value\n",
    "\n",
    "print(Length(\"Hello,World\"))\n",
    "Length([0,2,3,4])\n"
   ]
  },
  {
   "cell_type": "markdown",
   "id": "6100b97f",
   "metadata": {},
   "source": [
    "In the above code you may have noticed that, '#' is used in 4 places and it doesnt affect the code one bit.<br>\n",
    "In Python Programming Language we use '#' for commenting, we can even use comments to comment out some codes which we don't need to use currently"
   ]
  },
  {
   "cell_type": "code",
   "execution_count": 4,
   "id": "b403f59e",
   "metadata": {},
   "outputs": [],
   "source": [
    "#lets get onto the artheatic operators"
   ]
  },
  {
   "cell_type": "markdown",
   "id": "513e2321",
   "metadata": {},
   "source": [
    "Add"
   ]
  },
  {
   "cell_type": "code",
   "execution_count": 5,
   "id": "97944713",
   "metadata": {},
   "outputs": [
    {
     "data": {
      "text/plain": [
       "3"
      ]
     },
     "execution_count": 5,
     "metadata": {},
     "output_type": "execute_result"
    }
   ],
   "source": [
    "1 + 2 "
   ]
  },
  {
   "cell_type": "code",
   "execution_count": 6,
   "id": "c577cee3",
   "metadata": {},
   "outputs": [
    {
     "data": {
      "text/plain": [
       "48878"
      ]
     },
     "execution_count": 6,
     "metadata": {},
     "output_type": "execute_result"
    }
   ],
   "source": [
    "45343 + 3535"
   ]
  },
  {
   "cell_type": "code",
   "execution_count": 7,
   "id": "54602706",
   "metadata": {},
   "outputs": [
    {
     "data": {
      "text/plain": [
       "-109"
      ]
     },
     "execution_count": 7,
     "metadata": {},
     "output_type": "execute_result"
    }
   ],
   "source": [
    "234 + -343"
   ]
  },
  {
   "cell_type": "code",
   "execution_count": 8,
   "id": "8b664d22",
   "metadata": {},
   "outputs": [],
   "source": [
    "#we can add multiple numbers too "
   ]
  },
  {
   "cell_type": "code",
   "execution_count": 11,
   "id": "abd14ab4",
   "metadata": {},
   "outputs": [
    {
     "data": {
      "text/plain": [
       "61"
      ]
     },
     "execution_count": 11,
     "metadata": {},
     "output_type": "execute_result"
    }
   ],
   "source": [
    "12 + 34 + 98 + -83"
   ]
  },
  {
   "cell_type": "markdown",
   "id": "7db77758",
   "metadata": {},
   "source": [
    "Below are 5 Try yourself cells and YES you can add as per your need or remove if not needed. <br>\n",
    "Remove the comment #give a go<br> Before you write a code<br> \n",
    "Give a go with codes using (), such as 2+(45+ -1)+98"
   ]
  },
  {
   "cell_type": "code",
   "execution_count": 12,
   "id": "e118c52d",
   "metadata": {},
   "outputs": [],
   "source": [
    "#give a go"
   ]
  },
  {
   "cell_type": "code",
   "execution_count": 13,
   "id": "93d5c648",
   "metadata": {},
   "outputs": [],
   "source": [
    "#give a go"
   ]
  },
  {
   "cell_type": "code",
   "execution_count": 14,
   "id": "fa172fc0",
   "metadata": {},
   "outputs": [],
   "source": [
    "#give a go"
   ]
  },
  {
   "cell_type": "code",
   "execution_count": 15,
   "id": "79afa0ef",
   "metadata": {},
   "outputs": [],
   "source": [
    "#give a go"
   ]
  },
  {
   "cell_type": "code",
   "execution_count": 16,
   "id": "131163fe",
   "metadata": {},
   "outputs": [],
   "source": [
    "#give a go"
   ]
  },
  {
   "cell_type": "markdown",
   "id": "9f7e3340",
   "metadata": {},
   "source": [
    "Sub"
   ]
  },
  {
   "cell_type": "code",
   "execution_count": 18,
   "id": "62ebce26",
   "metadata": {},
   "outputs": [
    {
     "data": {
      "text/plain": [
       "-33"
      ]
     },
     "execution_count": 18,
     "metadata": {},
     "output_type": "execute_result"
    }
   ],
   "source": [
    "12 - 45"
   ]
  },
  {
   "cell_type": "code",
   "execution_count": 20,
   "id": "9254258e",
   "metadata": {},
   "outputs": [
    {
     "data": {
      "text/plain": [
       "-144370"
      ]
     },
     "execution_count": 20,
     "metadata": {},
     "output_type": "execute_result"
    }
   ],
   "source": [
    "354934 - 499304"
   ]
  },
  {
   "cell_type": "code",
   "execution_count": 21,
   "id": "5fd1f006",
   "metadata": {},
   "outputs": [
    {
     "data": {
      "text/plain": [
       "-76"
      ]
     },
     "execution_count": 21,
     "metadata": {},
     "output_type": "execute_result"
    }
   ],
   "source": [
    "12-34-54"
   ]
  },
  {
   "cell_type": "code",
   "execution_count": 22,
   "id": "314bc6f4",
   "metadata": {},
   "outputs": [
    {
     "data": {
      "text/plain": [
       "52526"
      ]
     },
     "execution_count": 22,
     "metadata": {},
     "output_type": "execute_result"
    }
   ],
   "source": [
    "12+23-(46394-98908+23)"
   ]
  },
  {
   "cell_type": "code",
   "execution_count": 23,
   "id": "851fc4d5",
   "metadata": {},
   "outputs": [],
   "source": [
    "#give a go"
   ]
  },
  {
   "cell_type": "code",
   "execution_count": 24,
   "id": "0af3e847",
   "metadata": {},
   "outputs": [],
   "source": [
    "#give a go"
   ]
  },
  {
   "cell_type": "code",
   "execution_count": 25,
   "id": "1966a81a",
   "metadata": {},
   "outputs": [],
   "source": [
    "#give a go"
   ]
  },
  {
   "cell_type": "code",
   "execution_count": 26,
   "id": "8fa8fb28",
   "metadata": {},
   "outputs": [],
   "source": [
    "#give a go"
   ]
  },
  {
   "cell_type": "markdown",
   "id": "0f629822",
   "metadata": {},
   "source": [
    "Multiply"
   ]
  },
  {
   "cell_type": "code",
   "execution_count": 28,
   "id": "4b90cd7e",
   "metadata": {},
   "outputs": [
    {
     "data": {
      "text/plain": [
       "1035"
      ]
     },
     "execution_count": 28,
     "metadata": {},
     "output_type": "execute_result"
    }
   ],
   "source": [
    "23 * 45"
   ]
  },
  {
   "cell_type": "code",
   "execution_count": 29,
   "id": "eed6abf6",
   "metadata": {},
   "outputs": [
    {
     "data": {
      "text/plain": [
       "7"
      ]
     },
     "execution_count": 29,
     "metadata": {},
     "output_type": "execute_result"
    }
   ],
   "source": [
    "1+2*(5-2)"
   ]
  },
  {
   "cell_type": "code",
   "execution_count": 30,
   "id": "3b839a47",
   "metadata": {},
   "outputs": [],
   "source": [
    "#give a go"
   ]
  },
  {
   "cell_type": "code",
   "execution_count": 31,
   "id": "e250c4c8",
   "metadata": {},
   "outputs": [],
   "source": [
    "#give a go"
   ]
  },
  {
   "cell_type": "code",
   "execution_count": 32,
   "id": "37928cdf",
   "metadata": {},
   "outputs": [],
   "source": [
    "#give a go"
   ]
  },
  {
   "cell_type": "code",
   "execution_count": 33,
   "id": "03cf0a42",
   "metadata": {},
   "outputs": [],
   "source": [
    "#give a go"
   ]
  },
  {
   "cell_type": "markdown",
   "id": "014cb1a0",
   "metadata": {},
   "source": [
    "Power(exponential)"
   ]
  },
  {
   "cell_type": "code",
   "execution_count": 35,
   "id": "e8f5da90",
   "metadata": {},
   "outputs": [
    {
     "data": {
      "text/plain": [
       "8"
      ]
     },
     "execution_count": 35,
     "metadata": {},
     "output_type": "execute_result"
    }
   ],
   "source": [
    "2 ** 3 #here 2 ** 3 means 2 ^ 3"
   ]
  },
  {
   "cell_type": "code",
   "execution_count": 36,
   "id": "1bc453d9",
   "metadata": {},
   "outputs": [],
   "source": [
    "#give a go"
   ]
  },
  {
   "cell_type": "code",
   "execution_count": 37,
   "id": "a2ae5858",
   "metadata": {},
   "outputs": [],
   "source": [
    "#give a go"
   ]
  },
  {
   "cell_type": "code",
   "execution_count": 38,
   "id": "f764fc33",
   "metadata": {},
   "outputs": [],
   "source": [
    "#give a go"
   ]
  },
  {
   "cell_type": "code",
   "execution_count": 39,
   "id": "5627f048",
   "metadata": {},
   "outputs": [],
   "source": [
    "#give a go"
   ]
  },
  {
   "cell_type": "markdown",
   "id": "9c9596b6",
   "metadata": {},
   "source": [
    "Divide "
   ]
  },
  {
   "cell_type": "code",
   "execution_count": 41,
   "id": "ec1a0af5",
   "metadata": {},
   "outputs": [
    {
     "data": {
      "text/plain": [
       "3.142857142857143"
      ]
     },
     "execution_count": 41,
     "metadata": {},
     "output_type": "execute_result"
    }
   ],
   "source": [
    "22 / 7"
   ]
  },
  {
   "cell_type": "code",
   "execution_count": 42,
   "id": "80320e83",
   "metadata": {},
   "outputs": [
    {
     "data": {
      "text/plain": [
       "3.0"
      ]
     },
     "execution_count": 42,
     "metadata": {},
     "output_type": "execute_result"
    }
   ],
   "source": [
    "12 / 4"
   ]
  },
  {
   "cell_type": "code",
   "execution_count": 43,
   "id": "92afc2c7",
   "metadata": {},
   "outputs": [
    {
     "data": {
      "text/plain": [
       "0.2"
      ]
     },
     "execution_count": 43,
     "metadata": {},
     "output_type": "execute_result"
    }
   ],
   "source": [
    "1 / 5\n"
   ]
  },
  {
   "cell_type": "code",
   "execution_count": 44,
   "id": "9b97872c",
   "metadata": {},
   "outputs": [
    {
     "data": {
      "text/plain": [
       "0.43"
      ]
     },
     "execution_count": 44,
     "metadata": {},
     "output_type": "execute_result"
    }
   ],
   "source": [
    "43 / 100"
   ]
  },
  {
   "cell_type": "code",
   "execution_count": 45,
   "id": "554a5e20",
   "metadata": {},
   "outputs": [],
   "source": [
    "#give a go"
   ]
  },
  {
   "cell_type": "code",
   "execution_count": 46,
   "id": "61fc9157",
   "metadata": {},
   "outputs": [],
   "source": [
    "#give a go"
   ]
  },
  {
   "cell_type": "code",
   "execution_count": 47,
   "id": "84198779",
   "metadata": {},
   "outputs": [],
   "source": [
    "#give a go"
   ]
  },
  {
   "cell_type": "code",
   "execution_count": 49,
   "id": "bc3fb231",
   "metadata": {},
   "outputs": [],
   "source": [
    "#give a go"
   ]
  },
  {
   "cell_type": "markdown",
   "id": "8bbf036d",
   "metadata": {},
   "source": [
    "Reminder"
   ]
  },
  {
   "cell_type": "code",
   "execution_count": 51,
   "id": "2dad4a8b",
   "metadata": {},
   "outputs": [
    {
     "data": {
      "text/plain": [
       "1"
      ]
     },
     "execution_count": 51,
     "metadata": {},
     "output_type": "execute_result"
    }
   ],
   "source": [
    "22 % 7"
   ]
  },
  {
   "cell_type": "code",
   "execution_count": 52,
   "id": "81717971",
   "metadata": {},
   "outputs": [
    {
     "data": {
      "text/plain": [
       "27"
      ]
     },
     "execution_count": 52,
     "metadata": {},
     "output_type": "execute_result"
    }
   ],
   "source": [
    "123 % 32"
   ]
  },
  {
   "cell_type": "code",
   "execution_count": 53,
   "id": "e0a9cec9",
   "metadata": {},
   "outputs": [],
   "source": [
    "#give a go"
   ]
  },
  {
   "cell_type": "code",
   "execution_count": 54,
   "id": "ca8949ea",
   "metadata": {},
   "outputs": [],
   "source": [
    "#give a go"
   ]
  },
  {
   "cell_type": "code",
   "execution_count": 55,
   "id": "f56a4837",
   "metadata": {},
   "outputs": [],
   "source": [
    "#give a go"
   ]
  },
  {
   "cell_type": "code",
   "execution_count": 56,
   "id": "8bf0f651",
   "metadata": {},
   "outputs": [],
   "source": [
    "#give a go"
   ]
  },
  {
   "cell_type": "markdown",
   "id": "16d6629b",
   "metadata": {},
   "source": [
    "Floor Division"
   ]
  },
  {
   "cell_type": "code",
   "execution_count": 57,
   "id": "7c573531",
   "metadata": {},
   "outputs": [
    {
     "data": {
      "text/plain": [
       "3"
      ]
     },
     "execution_count": 57,
     "metadata": {},
     "output_type": "execute_result"
    }
   ],
   "source": [
    "22 // 7"
   ]
  },
  {
   "cell_type": "code",
   "execution_count": 58,
   "id": "174ca98b",
   "metadata": {},
   "outputs": [
    {
     "data": {
      "text/plain": [
       "3"
      ]
     },
     "execution_count": 58,
     "metadata": {},
     "output_type": "execute_result"
    }
   ],
   "source": [
    "123 // 32"
   ]
  },
  {
   "cell_type": "code",
   "execution_count": 59,
   "id": "893cf724",
   "metadata": {},
   "outputs": [
    {
     "data": {
      "text/plain": [
       "0"
      ]
     },
     "execution_count": 59,
     "metadata": {},
     "output_type": "execute_result"
    }
   ],
   "source": [
    "43 // 100"
   ]
  },
  {
   "cell_type": "code",
   "execution_count": 60,
   "id": "37a15d68",
   "metadata": {},
   "outputs": [],
   "source": [
    "#give a go"
   ]
  },
  {
   "cell_type": "code",
   "execution_count": 61,
   "id": "9f8ce50d",
   "metadata": {},
   "outputs": [],
   "source": [
    "#give a go"
   ]
  },
  {
   "cell_type": "code",
   "execution_count": 62,
   "id": "53682555",
   "metadata": {},
   "outputs": [],
   "source": [
    "#give a go"
   ]
  },
  {
   "cell_type": "code",
   "execution_count": 63,
   "id": "c0f5f072",
   "metadata": {},
   "outputs": [],
   "source": [
    "#give a go"
   ]
  },
  {
   "cell_type": "markdown",
   "id": "12c2d187",
   "metadata": {},
   "source": [
    "# THE END"
   ]
  }
 ],
 "metadata": {
  "kernelspec": {
   "display_name": "Python 3",
   "language": "python",
   "name": "python3"
  },
  "language_info": {
   "codemirror_mode": {
    "name": "ipython",
    "version": 3
   },
   "file_extension": ".py",
   "mimetype": "text/x-python",
   "name": "python",
   "nbconvert_exporter": "python",
   "pygments_lexer": "ipython3",
   "version": "3.8.8"
  }
 },
 "nbformat": 4,
 "nbformat_minor": 5
}
